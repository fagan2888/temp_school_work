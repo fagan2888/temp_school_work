{
 "cells": [
  {
   "cell_type": "markdown",
   "metadata": {
    "nbgrader": {
     "grade": false,
     "grade_id": "cell-baff23f079b41646",
     "locked": true,
     "schema_version": 1,
     "solution": false
    }
   },
   "source": [
    "For this problem set, we'll be using the Jupyter notebook:\n",
    "\n",
    "<img src='../../jupyter.png' width=100>\n",
    "\n",
    "---"
   ]
  },
  {
   "cell_type": "markdown",
   "metadata": {
    "colab_type": "text",
    "id": "ntzIk0QSI8s3",
    "nbgrader": {
     "grade": false,
     "grade_id": "cell-d363737b4def9aee",
     "locked": true,
     "schema_version": 1,
     "solution": false
    }
   },
   "source": [
    "# Assignment 1\n",
    "\n",
    "In this assignment, we are going to practice analyzing a network using the various measurements and metrics that we learn this week. You will need to choose one of the following datasets to build your network and explore its features. In the end, based on your exploration, you are supposed complete a prediction task which should meet certain criteria. Note that based on the characteristics of different networks, the criteria might not be the same among different networks."
   ]
  },
  {
   "cell_type": "markdown",
   "metadata": {
    "colab_type": "text",
    "id": "E5Y8SduhLQg_",
    "nbgrader": {
     "grade": false,
     "grade_id": "cell-361595ed4e58169d",
     "locked": true,
     "schema_version": 1,
     "solution": false
    }
   },
   "source": [
    "## Datasets description\n",
    "\n",
    "### 1. Star wars interaction graph\n",
    "\n",
    "- `starwars-full-interactions.json`: named characters in Star Wars and their interactions. Each character is treated as a node, and an edge is created if two characters has ever appeared in a same scene.\n",
    "\n",
    "> Source: Gabasova, E. (2016). Star Wars social network. DOI: https://doi.org/10.5281/zenodo.1411479.\n",
    "\n",
    "- `star_war_label.csv`: labels of the characters, with 1 indicating the character is frequently appeared in the TV series and 0 otherwise. Orders of the names and labels are the same as their node number.\n",
    "\n",
    "### 2. Facebook friendships\n",
    "\n",
    "- `slavko.net`: edgelist of the friendship network. Each node represents a user on Facebook.\n",
    "\n",
    "> Blagus, N., Šubelj, L. & Bajec, M. (2012). [*Self-similar scaling of density in complex real-world networks*](http://wwwlovre.appspot.com/resources/research/bibs/ssd.bib), Physica A: Statistical Mechanics and its Applications 391(8), 2794-2802, doi:[10.1016/j.physa.2011.12.055](http://dx.doi.org/10.1016/j.physa.2011.12.055), e-print [arXiv:1110.5609](http://arxiv.org/abs/1110.5609), [COBISS:8930132](http://cobiss.izum.si/scripts/cobiss?command=DISPLAY&lani=en&base=COBIB&RID=8930132).\n",
    "\n",
    "- `slavko_label.txt`: labels of the nodes, whose order corresponds to node numbers in the network. Labels are indications of influence in the network, with 1 for \"somewhat\" influential and 0 for not influential.\n",
    "\n",
    "### 3. Students’ Cooperation Social Network\n",
    "\n",
    "- `multigraph_hashAnonymized.csv`: list of cooperation between students. Each number represents a student and a node in the cooperation network. An edge between two nodes indicates that the corresponding two students have cooperated in at least one academic activity.</font>\n",
    "\n",
    "> Fire, M., Katz, G., Elovici, Y., Shapira, B., and Rokach, L. Fire, Michael, et al. \"Predicting student exam’s scores by analyzing social network data.\" Active Media Technology. Springer Berlin Heidelberg, 2012. 584-595.\n",
    "\n",
    "- `multigraph_label.txt`: Labels for the nodes. Labels indicate academic improvements students made over the period of cooperation: 1 for improved and 0 for no obvious improvements.\n"
   ]
  },
  {
   "cell_type": "code",
   "execution_count": 3,
   "metadata": {
    "colab": {},
    "colab_type": "code",
    "id": "iB7prURBNsAg",
    "nbgrader": {
     "grade": false,
     "grade_id": "cell-5ad68f02cdef793a",
     "locked": false,
     "schema_version": 1,
     "solution": true
    }
   },
   "outputs": [],
   "source": [
    "import networkx as nx\n",
    "import pandas as pd\n",
    "import numpy as np\n",
    "\n",
    "import urllib\n",
    "import json\n",
    "import operator\n",
    "\n",
    "import matplotlib.pyplot as plt\n",
    "import seaborn as sns\n",
    "\n",
    "### BEGIN SOLUTION \n",
    "# Additional libraries within this block\n",
    "### END SOLUTION "
   ]
  },
  {
   "cell_type": "markdown",
   "metadata": {
    "colab_type": "text",
    "id": "koadY6saPPLM",
    "nbgrader": {
     "grade": false,
     "grade_id": "cell-221a284aaff0e6f0",
     "locked": true,
     "schema_version": 1,
     "solution": false
    }
   },
   "source": [
    "---\n",
    "\n",
    "## Part 1. Data exploration\n",
    "\n",
    "We provid an API `get_graph` for you, which extracts a dataset and create a network on it based on your choice of data source. Please use one of the following as input for the dataset you choose:\n",
    "\n",
    "- `\"starwar\"`\n",
    "- `\"facebook\"`\n",
    "- `\"student\"`"
   ]
  },
  {
   "cell_type": "code",
   "execution_count": 4,
   "metadata": {
    "colab": {},
    "colab_type": "code",
    "id": "-v6B1jS1I6u9",
    "nbgrader": {
     "grade": false,
     "grade_id": "cell-030808e083bbbe32",
     "locked": true,
     "schema_version": 1,
     "solution": false
    }
   },
   "outputs": [],
   "source": [
    "def get_graph(dataset):\n",
    "    if dataset == \"starwar\":\n",
    "        f=open(\"assets/starwars-full-interactions.json\")\n",
    "        data = json.load(f)\n",
    "        char_map = {entry['name']: i for i, entry in enumerate(data['nodes'])}\n",
    "        edges = [(edge['source'], edge['target']) for edge in data['links']]\n",
    "        G=nx.Graph()\n",
    "        G.add_nodes_from([i for i in range(len(char_map))])\n",
    "        G.add_edges_from(edges)\n",
    "    elif dataset == \"facebook\":\n",
    "        G = nx.read_edgelist(\"assets/slavko.net\", nodetype=int)\n",
    "    elif dataset == \"student\":\n",
    "        G = nx.read_edgelist(\"assets/student.txt\", nodetype=int)\n",
    "    else:\n",
    "        raise ValueError(\"Not a valid dataset\")\n",
    "    return G"
   ]
  },
  {
   "cell_type": "markdown",
   "metadata": {
    "nbgrader": {
     "grade": false,
     "grade_id": "cell-d834857c7278b6e8",
     "locked": true,
     "schema_version": 1,
     "solution": false
    }
   },
   "source": [
    "### Please indicate your choice of data in the cell below, using one of \n",
    "\n",
    "\n",
    "- `\"starwar\"`\n",
    "- `\"facebook\"`\n",
    "- `\"student\"`"
   ]
  },
  {
   "cell_type": "code",
   "execution_count": 38,
   "metadata": {
    "nbgrader": {
     "grade": false,
     "grade_id": "cell-2cb68bb58777c21e",
     "locked": false,
     "schema_version": 1,
     "solution": true
    }
   },
   "outputs": [],
   "source": [
    "DATASET = None\n",
    "### BEGIN SOLUTION \n",
    "DATASET = \"student\"\n",
    "### END SOLUTION"
   ]
  },
  {
   "cell_type": "code",
   "execution_count": 6,
   "metadata": {
    "nbgrader": {
     "grade": true,
     "grade_id": "cell-a4c865614a8d61e3",
     "locked": true,
     "points": 1,
     "schema_version": 1,
     "solution": false
    }
   },
   "outputs": [],
   "source": [
    "### BEGIN HIDDEN TESTS\n",
    "assert DATASET in {\"starwar\",\"facebook\",\"student\"}\n",
    "### END HIDDEN TESTS"
   ]
  },
  {
   "cell_type": "markdown",
   "metadata": {
    "colab_type": "text",
    "id": "g6LDuvmCjTqk",
    "nbgrader": {
     "grade": false,
     "grade_id": "cell-217e2be5467ef4e7",
     "locked": true,
     "schema_version": 1,
     "solution": false
    }
   },
   "source": [
    "### Q1. Plot the histogram of degree distribution.\n",
    "Hint: you may want to use the [`degree_histogram`](https://networkx.github.io/documentation/stable/reference/generated/networkx.classes.function.degree_histogram.html#networkx.classes.function.degree_histogram) function, for example,\n",
    "```python\n",
    "img = plt.bar(x, y)\n",
    "```"
   ]
  },
  {
   "cell_type": "code",
   "execution_count": 39,
   "metadata": {
    "colab": {
     "base_uri": "https://localhost:8080/",
     "height": 265
    },
    "colab_type": "code",
    "executionInfo": {
     "elapsed": 445,
     "status": "ok",
     "timestamp": 1585077912885,
     "user": {
      "displayName": "Lingyun Guo",
      "photoUrl": "",
      "userId": "03039946515057053705"
     },
     "user_tz": 240
    },
    "id": "bsdDi6PTRbn2",
    "nbgrader": {
     "grade": false,
     "grade_id": "cell-156b3960667d5b4e",
     "locked": false,
     "schema_version": 1,
     "solution": true
    },
    "outputId": "bba4d460-9fc9-428d-db9b-3887ee24a3fb"
   },
   "outputs": [
    {
     "data": {
      "image/png": "[encoded data removed]",
      "text/plain": [
       "<Figure size 432x288 with 1 Axes>"
      ]
     },
     "metadata": {
      "needs_background": "light"
     },
     "output_type": "display_data"
    }
   ],
   "source": [
    "# get graph\n",
    "G = None    # assign your graph here\n",
    "img = None  # assign your plt.bar plot to img\n",
    "\n",
    "### BEGIN SOLUTION \n",
    "G = get_graph(DATASET)\n",
    "freq = nx.degree_histogram(G);\n",
    "img = plt.bar(x=[i for i in range(len(freq))], height=freq, width=1, color='#add5a2');\n",
    "plt.show()\n",
    "### END SOLUTION"
   ]
  },
  {
   "cell_type": "code",
   "execution_count": 17,
   "metadata": {
    "nbgrader": {
     "grade": true,
     "grade_id": "cell-db033ef33ed02ee8",
     "locked": true,
     "points": 1,
     "schema_version": 1,
     "solution": false
    }
   },
   "outputs": [
    {
     "data": {
      "image/png": "[encoded data removed]",
      "text/plain": [
       "<Figure size 432x288 with 1 Axes>"
      ]
     },
     "metadata": {
      "needs_background": "light"
     },
     "output_type": "display_data"
    }
   ],
   "source": [
    "### BEGIN HIDDEN TESTS\n",
    "# get graph\n",
    "G2 = get_graph(DATASET)\n",
    "assert len(G2.nodes) == len(G.nodes)\n",
    "\n",
    "# get degree distribution plot\n",
    "freq = nx.degree_histogram(G2);\n",
    "img2 = plt.bar(x=[i for i in range(len(freq))], height=freq, width=1, color='#add5a2');\n",
    "assert len(img) == len(img2)\n",
    "\n",
    "bars1 = []\n",
    "bars2 = []\n",
    "for i in range(len(img)):\n",
    "    bars1.append([img[i]._x0, img[i]._x1, img[i]._y0, img[i]._y1])\n",
    "    bars2.append([img2[i]._x0, img2[i]._x1, img2[i]._y0, img2[i]._y1])\n",
    "assert bars1 == bars2\n",
    "### END HIDDEN TESTS"
   ]
  },
  {
   "cell_type": "markdown",
   "metadata": {
    "colab_type": "text",
    "id": "qGGt1RKRjcK1",
    "nbgrader": {
     "grade": false,
     "grade_id": "cell-682843cbba59ad81",
     "locked": true,
     "schema_version": 1,
     "solution": false
    }
   },
   "source": [
    "### Q2. Which node has the largest degree centrality?"
   ]
  },
  {
   "cell_type": "code",
   "execution_count": 8,
   "metadata": {
    "colab": {
     "base_uri": "https://localhost:8080/",
     "height": 34
    },
    "colab_type": "code",
    "executionInfo": {
     "elapsed": 543,
     "status": "ok",
     "timestamp": 1585406244693,
     "user": {
      "displayName": "Lingyun Guo",
      "photoUrl": "",
      "userId": "03039946515057053705"
     },
     "user_tz": 240
    },
    "id": "-ibAs2TyDqwi",
    "nbgrader": {
     "grade": false,
     "grade_id": "cell-b77c80ebfe459764",
     "locked": false,
     "schema_version": 1,
     "solution": true
    },
    "outputId": "c37778a6-ba32-48c6-84c9-3b18b8fc7836"
   },
   "outputs": [],
   "source": [
    "node_max_degree = None\n",
    "val_deg = None\n",
    "\n",
    "### BEGIN SOLUTION \n",
    "node_max_degree, val_deg = sorted(nx.degree_centrality(G).items(), key=lambda item: item[1])[-1]\n",
    "### END SOLUTION"
   ]
  },
  {
   "cell_type": "code",
   "execution_count": 9,
   "metadata": {
    "nbgrader": {
     "grade": true,
     "grade_id": "cell-17637947ef67160e",
     "locked": true,
     "points": 1,
     "schema_version": 1,
     "solution": false
    }
   },
   "outputs": [],
   "source": [
    "#hidden tests are within this cell\n",
    "node_max_degree2, val_deg2 = sorted(nx.degree_centrality(G).items(), key=lambda item: item[1])[-1]\n",
    "### BEGIN HIDDEN TESTS\n",
    "assert node_max_degree == node_max_degree2\n",
    "assert abs(val_deg - val_deg2) < 0.001\n",
    "### END HIDDEN TESTS"
   ]
  },
  {
   "cell_type": "markdown",
   "metadata": {
    "colab_type": "text",
    "id": "exlTqohcjhst",
    "nbgrader": {
     "grade": false,
     "grade_id": "cell-197475b4111bfd24",
     "locked": true,
     "schema_version": 1,
     "solution": false
    }
   },
   "source": [
    "### Q3. List 5 nodes with the largest closeness centrality and 5 nodes with the least closeness centrality."
   ]
  },
  {
   "cell_type": "code",
   "execution_count": 10,
   "metadata": {
    "colab": {
     "base_uri": "https://localhost:8080/",
     "height": 51
    },
    "colab_type": "code",
    "executionInfo": {
     "elapsed": 464,
     "status": "ok",
     "timestamp": 1585407037988,
     "user": {
      "displayName": "Lingyun Guo",
      "photoUrl": "",
      "userId": "03039946515057053705"
     },
     "user_tz": 240
    },
    "id": "P_PhbqfxFQtw",
    "nbgrader": {
     "grade": false,
     "grade_id": "cell-466fb9a6da2dce45",
     "locked": false,
     "schema_version": 1,
     "solution": true
    },
    "outputId": "1cda7455-688d-414d-c8f7-303dd6fa6b72"
   },
   "outputs": [],
   "source": [
    "max_5_cc = None\n",
    "min_5_cc = None\n",
    "### BEGIN SOLUTION \n",
    "result = sorted(nx.closeness_centrality(G).items(), key=lambda item: item[1])\n",
    "max_5_cc = [i for i, v in result[-5:]]\n",
    "min_5_cc = [i for i, v in result[:5]]\n",
    "### END SOLUTION"
   ]
  },
  {
   "cell_type": "code",
   "execution_count": 11,
   "metadata": {
    "nbgrader": {
     "grade": true,
     "grade_id": "cell-3a53a8c1ca0922c7",
     "locked": true,
     "points": 1,
     "schema_version": 1,
     "solution": false
    }
   },
   "outputs": [],
   "source": [
    "#hidden tests are within this cell\n",
    "### BEGIN HIDDEN TESTS\n",
    "result = sorted(nx.closeness_centrality(G).items(), key=lambda item: item[1])\n",
    "max_5_cc2 = [i for i, v in result[-5:]]\n",
    "min_5_cc2 = [i for i, v in result[:5]]\n",
    "assert set(max_5_cc) == set(max_5_cc2)\n",
    "assert set(min_5_cc) == set(min_5_cc2)\n",
    "### END HIDDEN TESTS"
   ]
  },
  {
   "cell_type": "markdown",
   "metadata": {
    "colab_type": "text",
    "id": "c5eeyIGxjkkH",
    "nbgrader": {
     "grade": false,
     "grade_id": "cell-641fdd6bfa5de410",
     "locked": true,
     "schema_version": 1,
     "solution": false
    }
   },
   "source": [
    "### Q4. List 5 nodes with the largest betweenness centrality and 5 nodes with the least betweenness centrality. Does the sets of nodes overlap with your results in Q3?"
   ]
  },
  {
   "cell_type": "code",
   "execution_count": 12,
   "metadata": {
    "colab": {
     "base_uri": "https://localhost:8080/",
     "height": 51
    },
    "colab_type": "code",
    "executionInfo": {
     "elapsed": 464,
     "status": "ok",
     "timestamp": 1585407151544,
     "user": {
      "displayName": "Lingyun Guo",
      "photoUrl": "",
      "userId": "03039946515057053705"
     },
     "user_tz": 240
    },
    "id": "uIdOfrg-FoSy",
    "nbgrader": {
     "grade": false,
     "grade_id": "cell-81e75bbc163e3776",
     "locked": false,
     "schema_version": 1,
     "solution": true
    },
    "outputId": "e157b97d-d5a4-453e-8797-e57ee067fa22"
   },
   "outputs": [],
   "source": [
    "max_5_bc = None\n",
    "min_5_bc = None\n",
    "\n",
    "### BEGIN SOLUTION \n",
    "result = sorted(nx.betweenness_centrality(G).items(), key=lambda item: item[1])\n",
    "max_5_bc = [i for i, v in result[-5:]]\n",
    "min_5_bc = [i for i, v in result[:5]]\n",
    "### END SOLUTION"
   ]
  },
  {
   "cell_type": "code",
   "execution_count": 13,
   "metadata": {
    "nbgrader": {
     "grade": true,
     "grade_id": "cell-a588b2c4b35581e8",
     "locked": true,
     "points": 1,
     "schema_version": 1,
     "solution": false
    }
   },
   "outputs": [],
   "source": [
    "### BEGIN HIDDEN TESTS\n",
    "result = sorted(nx.betweenness_centrality(G).items(), key=lambda item: item[1])\n",
    "max_5_bc2 = [i for i, v in result[-5:]]\n",
    "min_5_bc2 = [i for i, v in result[:5]]\n",
    "assert set(max_5_bc) == set(max_5_bc2)\n",
    "assert set(min_5_bc) == set(min_5_bc2)\n",
    "### END HIDDEN TESTS"
   ]
  },
  {
   "cell_type": "markdown",
   "metadata": {
    "colab_type": "text",
    "id": "RSKX2Dp6oa0J",
    "nbgrader": {
     "grade": false,
     "grade_id": "cell-9d6a5b9c989b7034",
     "locked": true,
     "schema_version": 1,
     "solution": false
    }
   },
   "source": [
    "### Q5. What is the average clustering coefficient and graph transitivity of the network?\n",
    "\n",
    "Both graph transitivity and clustering coefficient measure the number of triangles in a network. However, transitivity measures the density of triangles in a network, whereas average clustering coefficient measures the average tendency of nodes clustering together."
   ]
  },
  {
   "cell_type": "code",
   "execution_count": 14,
   "metadata": {
    "colab": {
     "base_uri": "https://localhost:8080/",
     "height": 272
    },
    "colab_type": "code",
    "executionInfo": {
     "elapsed": 473,
     "status": "ok",
     "timestamp": 1585408758464,
     "user": {
      "displayName": "Lingyun Guo",
      "photoUrl": "",
      "userId": "03039946515057053705"
     },
     "user_tz": 240
    },
    "id": "YX4DYE9moaZS",
    "nbgrader": {
     "grade": false,
     "grade_id": "cell-8facb0545d737034",
     "locked": false,
     "schema_version": 1,
     "solution": true
    },
    "outputId": "dfd14ee6-4041-40bc-ac89-8d904d114b67"
   },
   "outputs": [],
   "source": [
    "graph_trans = None\n",
    "avg_clustering = None\n",
    "\n",
    "### BEGIN SOLUTION \n",
    "graph_trans = nx.transitivity(G)\n",
    "avg_clustering = nx.average_clustering(G)\n",
    "### END SOLUTION"
   ]
  },
  {
   "cell_type": "code",
   "execution_count": 15,
   "metadata": {
    "nbgrader": {
     "grade": true,
     "grade_id": "cell-1b21246482974b67",
     "locked": true,
     "points": 1,
     "schema_version": 1,
     "solution": false
    }
   },
   "outputs": [],
   "source": [
    "### BEGIN HIDDEN TESTS\n",
    "graph_trans2 = nx.transitivity(G)\n",
    "avg_clustering2 = nx.average_clustering(G)\n",
    "assert abs(graph_trans - graph_trans2) < 0.001\n",
    "assert abs(avg_clustering - avg_clustering2) < 0.001\n",
    "### END HIDDEN TESTS"
   ]
  },
  {
   "cell_type": "markdown",
   "metadata": {
    "colab_type": "text",
    "id": "cf9z75JGjnFN",
    "nbgrader": {
     "grade": false,
     "grade_id": "cell-2192dc8b0192f338",
     "locked": true,
     "schema_version": 1,
     "solution": false
    }
   },
   "source": [
    "### Q6. What are the 3 nodes with the largest pagerank values in the graph? (Use damping coefficient $\\alpha = 0.9$). Are they connect to each other?\n",
    "\n",
    "Hint: [`Graph.has_edge`](https://networkx.github.io/documentation/networkx-1.9/reference/generated/networkx.Graph.has_edge.html?highlight=has_edge#networkx.Graph.has_edge)"
   ]
  },
  {
   "cell_type": "code",
   "execution_count": 16,
   "metadata": {
    "colab": {
     "base_uri": "https://localhost:8080/",
     "height": 34
    },
    "colab_type": "code",
    "executionInfo": {
     "elapsed": 899,
     "status": "ok",
     "timestamp": 1585408988639,
     "user": {
      "displayName": "Lingyun Guo",
      "photoUrl": "",
      "userId": "03039946515057053705"
     },
     "user_tz": 240
    },
    "id": "prTWcKwHvGae",
    "nbgrader": {
     "grade": false,
     "grade_id": "cell-56c58bf0ad9926b7",
     "locked": false,
     "schema_version": 1,
     "solution": true
    },
    "outputId": "b03db292-3237-4373-dac8-2bec1ee1ae0e"
   },
   "outputs": [],
   "source": [
    "result, has_edge12, has_edge13, has_edge23 = None, None, None, None\n",
    "\n",
    "### BEGIN SOLUTION \n",
    "result = sorted(nx.pagerank(G, alpha=0.9).items(), key=lambda item: item[1])[:3]\n",
    "result = [i for i, _ in result]\n",
    "has_edge12 = G.has_edge(result[0], result[1])\n",
    "has_edge13 = G.has_edge(result[0], result[2])\n",
    "has_edge23 = G.has_edge(result[1], result[2])\n",
    "### END SOLUTION"
   ]
  },
  {
   "cell_type": "code",
   "execution_count": 17,
   "metadata": {
    "nbgrader": {
     "grade": true,
     "grade_id": "cell-d6e62dc3cc8c6245",
     "locked": true,
     "points": 1,
     "schema_version": 1,
     "solution": false
    }
   },
   "outputs": [],
   "source": [
    "### BEGIN HIDDEN TESTS\n",
    "result2 = sorted(nx.pagerank(G, alpha=0.9).items(), key=lambda item: item[1])[:3]\n",
    "result2 = [i for i, _ in result2]\n",
    "has2_edge12 = G.has_edge(result2[0], result2[1])\n",
    "has2_edge13 = G.has_edge(result2[0], result2[2])\n",
    "has2_edge23 = G.has_edge(result2[1], result2[2])\n",
    "assert set(result) == set(result2)\n",
    "assert has_edge12 == has2_edge12\n",
    "assert has_edge13 == has2_edge13\n",
    "assert has_edge23 == has2_edge23\n",
    "### END HIDDEN TESTS"
   ]
  },
  {
   "cell_type": "markdown",
   "metadata": {
    "colab_type": "text",
    "id": "RDZBw7qhjvOj",
    "nbgrader": {
     "grade": false,
     "grade_id": "cell-62463324488b4523",
     "locked": true,
     "schema_version": 1,
     "solution": false
    }
   },
   "source": [
    "### Q7. List 5 nodes with the largest Hubs scores and 5 nodes with the largest Authority values. Explain why the two sets of nodes are the same."
   ]
  },
  {
   "cell_type": "code",
   "execution_count": 18,
   "metadata": {
    "colab": {
     "base_uri": "https://localhost:8080/",
     "height": 51
    },
    "colab_type": "code",
    "executionInfo": {
     "elapsed": 885,
     "status": "ok",
     "timestamp": 1585409169025,
     "user": {
      "displayName": "Lingyun Guo",
      "photoUrl": "",
      "userId": "03039946515057053705"
     },
     "user_tz": 240
    },
    "id": "NweGRn66HPa8",
    "nbgrader": {
     "grade": false,
     "grade_id": "cell-a774415b125bbe05",
     "locked": false,
     "schema_version": 1,
     "solution": true
    },
    "outputId": "663c4e85-25cb-43c3-8f81-7c818a83fcef"
   },
   "outputs": [],
   "source": [
    "h5 = None  # nodes with largest hub scores\n",
    "a5 = None  # nodes with largest authority scores\n",
    "### BEGIN SOLUTION \n",
    "h, a = nx.hits(G, max_iter=200)\n",
    "h5 = sorted(h.items(), key=lambda item: item[1])[:5]\n",
    "a5 = sorted(a.items(), key=lambda item: item[1])[:5]\n",
    "h5 = [i for i, v in h5]\n",
    "a5 = [i for i, v in a5]\n",
    "### END SOLUTION"
   ]
  },
  {
   "cell_type": "markdown",
   "metadata": {
    "nbgrader": {
     "grade": true,
     "grade_id": "cell-ab4e856608beb015",
     "locked": false,
     "points": 1,
     "schema_version": 1,
     "solution": true
    }
   },
   "source": [
    "#### Answer\n",
    "\n",
    "Because this is an undirected graph."
   ]
  },
  {
   "cell_type": "code",
   "execution_count": 19,
   "metadata": {
    "nbgrader": {
     "grade": true,
     "grade_id": "cell-16ef1f78a70d3adf",
     "locked": true,
     "points": 1,
     "schema_version": 1,
     "solution": false
    }
   },
   "outputs": [],
   "source": [
    "### BEGIN HIDDEN TESTS\n",
    "h, a = nx.hits(G, max_iter=200)\n",
    "h52 = sorted(h.items(), key=lambda item: item[1])[:5]\n",
    "a52 = sorted(a.items(), key=lambda item: item[1])[:5]\n",
    "h52 = [i for i, v in h52]\n",
    "a52 = [i for i, v in a52]\n",
    "assert set(h5) == set(h52)\n",
    "assert set(a5) == set(a52)\n",
    "### END HIDDEN TESTS"
   ]
  },
  {
   "cell_type": "markdown",
   "metadata": {
    "nbgrader": {
     "grade": false,
     "grade_id": "cell-562b584e8b5d617d",
     "locked": true,
     "schema_version": 1,
     "solution": false
    }
   },
   "source": [
    "---\n",
    "\n",
    "## Part 2. Node importance and graph connected components\n",
    "\n",
    "In this part, we are going to remove nodes from a graph and see what effect that has to the number of connected components in the graph.\n",
    "\n",
    "Starting with the full graph, compute the number of connected components. Then remove nodes one at a time and after each node removal compute the number of connected components. We provide 3 strategies to remove the nodes: \n",
    "\n",
    "1. Each time, choose a node randomly.\n",
    "2. Remove the node with the highest degree centrality in the current graph. \n",
    "3. Remove the node with the highest betweenness centrality in the current graph.\n",
    "\n",
    "The goal is testing what strategy for node removal will fragment the graph faster. \n",
    "\n",
    "---\n",
    "**<font color='red'>Note: </font>** please use the **facebook** network for this part."
   ]
  },
  {
   "cell_type": "markdown",
   "metadata": {
    "nbgrader": {
     "grade": false,
     "grade_id": "cell-42b1d60a1011966c",
     "locked": true,
     "schema_version": 1,
     "solution": false
    }
   },
   "source": [
    "### Q8. Make a plot of the number of nodes removed vs. the number of connected components (three curves in a single plot) for the first `threshold` operations (threshold is selected based on the total number of nodes in the graph). Determine which strategy makes the number of components increase faster. "
   ]
  },
  {
   "cell_type": "code",
   "execution_count": 48,
   "metadata": {
    "nbgrader": {
     "grade": false,
     "grade_id": "cell-5558571b60e897c0",
     "locked": false,
     "schema_version": 1,
     "solution": true
    }
   },
   "outputs": [],
   "source": [
    "import copy\n",
    "import random\n",
    "\n",
    "### BEGIN SOLUTION \n",
    "# additional libraries goes here\n",
    "### END SOLUTION "
   ]
  },
  {
   "cell_type": "markdown",
   "metadata": {
    "nbgrader": {
     "grade": false,
     "grade_id": "cell-97bb83b6220dd6dd",
     "locked": true,
     "schema_version": 1,
     "solution": false
    }
   },
   "source": [
    "Make sure that you are using the \"facebook\" graph for questions below this cell, if you haven't already."
   ]
  },
  {
   "cell_type": "code",
   "execution_count": 57,
   "metadata": {
    "nbgrader": {
     "grade": false,
     "grade_id": "cell-ff88ee7b0720cd9d",
     "locked": false,
     "schema_version": 1,
     "solution": true
    }
   },
   "outputs": [],
   "source": [
    "# if you are already using facebook dataset, you may skip this cell.\n",
    "### BEGIN SOLUTION \n",
    "G = get_graph(\"facebook\")\n",
    "### END SOLUTION "
   ]
  },
  {
   "cell_type": "code",
   "execution_count": 58,
   "metadata": {
    "nbgrader": {
     "grade": true,
     "grade_id": "cell-452785a8e6bd2619",
     "locked": true,
     "points": 1,
     "schema_version": 1,
     "solution": false
    }
   },
   "outputs": [],
   "source": [
    "### BEGIN HIDDEN TESTS\n",
    "Gf = get_graph(\"facebook\")\n",
    "assert len(G.nodes) == len(Gf.nodes)\n",
    "### END HIDDEN TESTS"
   ]
  },
  {
   "cell_type": "markdown",
   "metadata": {
    "nbgrader": {
     "grade": false,
     "grade_id": "cell-4c85f1c2f3369605",
     "locked": true,
     "schema_version": 1,
     "solution": false
    }
   },
   "source": [
    "#### Randomly-chosen"
   ]
  },
  {
   "cell_type": "code",
   "execution_count": 49,
   "metadata": {
    "nbgrader": {
     "grade": false,
     "grade_id": "cell-7e85b417f77a17c2",
     "locked": false,
     "schema_version": 1,
     "solution": true
    }
   },
   "outputs": [],
   "source": [
    "random.seed(0)\n",
    "G1 = copy.deepcopy(G)\n",
    "rand_move = [nx.number_connected_components(G1)]\n",
    "\n",
    "\n",
    "### BEGIN SOLUTION \n",
    "for i in range(150):\n",
    "    nd = random.choice(list(G1.nodes))\n",
    "    G1.remove_node(nd)\n",
    "    rand_move.append(nx.number_connected_components(G1))\n",
    "### END SOLUTION"
   ]
  },
  {
   "cell_type": "code",
   "execution_count": 50,
   "metadata": {
    "nbgrader": {
     "grade": true,
     "grade_id": "cell-1f05df8c8a42bd1d",
     "locked": true,
     "points": 1,
     "schema_version": 1,
     "solution": false
    }
   },
   "outputs": [],
   "source": [
    "### BEGIN HIDDEN TESTS\n",
    "random.seed(0)\n",
    "G11 = copy.deepcopy(G)\n",
    "rand_move2 = [nx.number_connected_components(G11)]\n",
    "\n",
    "for i in range(150):\n",
    "    nd = random.choice(list(G11.nodes))\n",
    "    G11.remove_node(nd)\n",
    "    rand_move2.append(nx.number_connected_components(G11))\n",
    "assert rand_move == rand_move2\n",
    "### END HIDDEN TESTS"
   ]
  },
  {
   "cell_type": "markdown",
   "metadata": {
    "nbgrader": {
     "grade": false,
     "grade_id": "cell-b79e63ea62b88253",
     "locked": true,
     "schema_version": 1,
     "solution": false
    }
   },
   "source": [
    "#### Remove node with highest degree centrality"
   ]
  },
  {
   "cell_type": "code",
   "execution_count": 51,
   "metadata": {
    "nbgrader": {
     "grade": false,
     "grade_id": "cell-2ad04bc3d0cf6b55",
     "locked": false,
     "schema_version": 1,
     "solution": true
    }
   },
   "outputs": [],
   "source": [
    "G1 = copy.deepcopy(G)\n",
    "deg_move = [nx.number_connected_components(G1)]\n",
    "\n",
    "### BEGIN SOLUTION \n",
    "for i in range(150):\n",
    "    nd, _ = sorted(nx.degree_centrality(G1).items(), key=lambda item: item[1])[-1]\n",
    "    G1.remove_node(nd)\n",
    "    deg_move.append(nx.number_connected_components(G1))\n",
    "### END SOLUTION"
   ]
  },
  {
   "cell_type": "code",
   "execution_count": 52,
   "metadata": {
    "nbgrader": {
     "grade": true,
     "grade_id": "cell-b04e04db3f49329b",
     "locked": true,
     "points": 1,
     "schema_version": 1,
     "solution": false
    }
   },
   "outputs": [],
   "source": [
    "### BEGIN HIDDEN TESTS\n",
    "G11 = copy.deepcopy(G)\n",
    "deg_move2 = [nx.number_connected_components(G11)]\n",
    "\n",
    "for i in range(150):\n",
    "    nd, _ = sorted(nx.degree_centrality(G11).items(), key=lambda item: item[1])[-1]\n",
    "    G11.remove_node(nd)\n",
    "    deg_move2.append(nx.number_connected_components(G11))\n",
    "assert deg_move == deg_move2\n",
    "### END HIDDEN TESTS"
   ]
  },
  {
   "cell_type": "markdown",
   "metadata": {
    "nbgrader": {
     "grade": false,
     "grade_id": "cell-c94f8589c4fbcb91",
     "locked": true,
     "schema_version": 1,
     "solution": false
    }
   },
   "source": [
    "#### Remove node with highest betweenness centrality"
   ]
  },
  {
   "cell_type": "code",
   "execution_count": 53,
   "metadata": {
    "nbgrader": {
     "grade": false,
     "grade_id": "cell-16359141ca3ed456",
     "locked": false,
     "schema_version": 1,
     "solution": true
    }
   },
   "outputs": [],
   "source": [
    "G1 = copy.deepcopy(G)\n",
    "bet_move = [nx.number_connected_components(G1)]\n",
    "\n",
    "### BEGIN SOLUTION \n",
    "for i in range(150):\n",
    "    nd, _ = sorted(nx.betweenness_centrality(G1).items(), key=lambda item: item[1])[-1]\n",
    "    G1.remove_node(nd)\n",
    "    bet_move.append(nx.number_connected_components(G1))\n",
    "### END SOLUTION"
   ]
  },
  {
   "cell_type": "code",
   "execution_count": 54,
   "metadata": {
    "nbgrader": {
     "grade": true,
     "grade_id": "cell-a2eb5061f57d2cca",
     "locked": true,
     "points": 1,
     "schema_version": 1,
     "solution": false
    }
   },
   "outputs": [],
   "source": [
    "### BEGIN HIDDEN TESTS\n",
    "G11 = copy.deepcopy(G)\n",
    "bet_move2 = [nx.number_connected_components(G11)]\n",
    "\n",
    "for i in range(150):\n",
    "    nd, _ = sorted(nx.betweenness_centrality(G11).items(), key=lambda item: item[1])[-1]\n",
    "    G11.remove_node(nd)\n",
    "    bet_move2.append(nx.number_connected_components(G11))\n",
    "assert bet_move == bet_move2\n",
    "### END HIDDEN TESTS"
   ]
  },
  {
   "cell_type": "markdown",
   "metadata": {
    "nbgrader": {
     "grade": false,
     "grade_id": "cell-12fe408a85f86e7c",
     "locked": true,
     "schema_version": 1,
     "solution": false
    }
   },
   "source": [
    "#### Create a plot"
   ]
  },
  {
   "cell_type": "code",
   "execution_count": 55,
   "metadata": {
    "nbgrader": {
     "grade": true,
     "grade_id": "cell-799c07321434d451",
     "locked": false,
     "points": 1,
     "schema_version": 1,
     "solution": true
    }
   },
   "outputs": [
    {
     "data": {
      "image/png": "[encoded data removed]",
      "text/plain": [
       "<Figure size 432x288 with 1 Axes>"
      ]
     },
     "metadata": {
      "needs_background": "light"
     },
     "output_type": "display_data"
    }
   ],
   "source": [
    "### BEGIN SOLUTION\n",
    "nodes = [i for i in range(150)]\n",
    "plt.plot(nodes, '--', color='grey', label='# nodes removed')\n",
    "plt.plot(rand_move, label='random')\n",
    "plt.plot(deg_move, label='degree centrality')\n",
    "plt.plot(bet_move, label='betweenness centrality')\n",
    "plt.legend()\n",
    "plt.title('Facebook');\n",
    "### END SOLUTION"
   ]
  },
  {
   "cell_type": "markdown",
   "metadata": {
    "nbgrader": {
     "grade": false,
     "grade_id": "cell-cb6620de4567705b",
     "locked": true,
     "schema_version": 1,
     "solution": false
    }
   },
   "source": [
    "### Q9. For the strategy you select in Q8, why do you think it is faster than the other two strategies?"
   ]
  },
  {
   "cell_type": "markdown",
   "metadata": {
    "nbgrader": {
     "grade": true,
     "grade_id": "cell-6629cabfbc607fc8",
     "locked": false,
     "points": 1,
     "schema_version": 1,
     "solution": true
    }
   },
   "source": [
    "#### Answer\n",
    "<font color='gray'>Betweenness centrality is the fastest. Because it measures the importance of nodes connected others.</font>"
   ]
  },
  {
   "cell_type": "markdown",
   "metadata": {
    "colab_type": "text",
    "id": "oYZL8IOfHri1",
    "nbgrader": {
     "grade": false,
     "grade_id": "cell-63fa8afda38e9b16",
     "locked": true,
     "schema_version": 1,
     "solution": false
    }
   },
   "source": [
    "---\n",
    "\n",
    "## Part 3. Prediction\n",
    "\n",
    "In this part, you are going to complete a supervised prediction task on the **facebook** network. The task to predict whether a node is an \"influential\" user in the network. We privide two files for you:\n",
    "\n",
    "1. `facebook_train.csv` is the traning set.\n",
    "2. `facebook_test.csv` is the test set, which is provided for you to evaluate the effectiveness of your model.\n",
    "\n",
    "We provide a label for each node with `True` indicating the node is \"influential\" and `False` otherwise. Use the node attributes we explored in part 1 to serve as features for this prediction. Starting from using only a single node attribute as feature, after train your model and evaluate your prediction results, add a new attribute to your existing features and see how it affects your model efficiency.\n",
    "\n",
    "---\n",
    "\n",
    "**<font color='red'>Notice:</font>**\n",
    "\n",
    "1. use `sklearn.metrics.f1_score` to evaluate your prediction.\n",
    "2. use sklearn [Random Forest](https://scikit-learn.org/stable/modules/generated/sklearn.ensemble.RandomForestClassifier.html) model as your supervised model.\n",
    "3. the label are synthesized to fulfill this prediction task. Therefore, there might be some data leakage problems. Please don't worry too much about it, and focus on the process of adding node features for prediction.\n",
    "4. you can use the `normalize(col)` function provided to normalize the values of a given dataframe column.\n",
    "5. you can only get full marks if your prediction results achives a f1 score higher than 0.85."
   ]
  },
  {
   "cell_type": "code",
   "execution_count": 59,
   "metadata": {
    "colab": {},
    "colab_type": "code",
    "id": "yfGjQZq_FFDg",
    "nbgrader": {
     "grade": false,
     "grade_id": "cell-5f8839ab068a2412",
     "locked": false,
     "schema_version": 1,
     "solution": true
    }
   },
   "outputs": [],
   "source": [
    "from sklearn.ensemble import RandomForestClassifier\n",
    "from sklearn.metrics import accuracy_score, f1_score\n",
    "\n",
    "### BEGIN SOLUTION \n",
    "# additional libraries goes here\n",
    "### END SOLUTION "
   ]
  },
  {
   "cell_type": "code",
   "execution_count": 68,
   "metadata": {
    "nbgrader": {
     "grade": false,
     "grade_id": "cell-88b59a40c0c28dec",
     "locked": false,
     "schema_version": 1,
     "solution": true
    }
   },
   "outputs": [],
   "source": [
    "predic_labels = None\n",
    "\n",
    "### BEGIN SOLUTION\n",
    "train = pd.read_csv('assets/facebook_train.csv')\n",
    "test = pd.read_csv('assets/facebook_test.csv')\n",
    "\n",
    "df = pd.DataFrame({'node':G.nodes()})\n",
    "# get degree of nodes and store in df\n",
    "df['degree'] = dict(nx.degree(G)).values()\n",
    "df['degree_centrality'] = nx.degree_centrality(G).values()\n",
    "df['clustering'] = nx.clustering(G).values()\n",
    "df['closeness_centrality'] = nx.closeness_centrality(G).values()\n",
    "df['betweenness_centrality'] = nx.betweenness_centrality(G).values()\n",
    "df['pagerank'] = nx.pagerank(G, alpha=0.9).values()\n",
    "# since our graph is undirected, the values for hubs and authorities are the same\n",
    "h, _ = nx.hits(G, max_iter=200)\n",
    "df['hits'] = h.values()\n",
    "\n",
    "\n",
    "X_train = df[df.node.isin(train.node)][df.columns[2:8]].to_numpy()\n",
    "y_train = train.label\n",
    "X_test = df[df.node.isin(test.node)][df.columns[2:8]].to_numpy()\n",
    "\n",
    "clf = RandomForestClassifier(max_depth=2, n_estimators=100, random_state=0)\n",
    "clf.fit(X_train, y_train)\n",
    "predic_labels = clf.predict(X_test)\n",
    "# print(f1_score(predic_labels, y_test))\n",
    "### END SOLUTION"
   ]
  },
  {
   "cell_type": "code",
   "execution_count": 70,
   "metadata": {
    "nbgrader": {
     "grade": true,
     "grade_id": "cell-8f1c8f5e4c9c45de",
     "locked": true,
     "points": 1,
     "schema_version": 1,
     "solution": false
    }
   },
   "outputs": [],
   "source": [
    "### BEGIN HIDDEN TESTS\n",
    "score = 0\n",
    "try:\n",
    "    test = pd.read_csv('assets/facebook_raw_test.csv')\n",
    "    score = f1_score(test.label, predic_labels)\n",
    "except:\n",
    "    pass\n",
    "assert score > 0.85\n",
    "### END HIDDEN TESTS"
   ]
  }
 ],
 "metadata": {
  "celltoolbar": "Create Assignment",
  "colab": {
   "authorship_tag": "ABX9TyPRfufeNJijXkYu9Hrbc7Gm",
   "collapsed_sections": [],
   "name": "assignment1.ipynb",
   "provenance": []
  },
  "kernelspec": {
   "display_name": "Python 3",
   "language": "python",
   "name": "python3"
  },
  "language_info": {
   "codemirror_mode": {
    "name": "ipython",
    "version": 3
   },
   "file_extension": ".py",
   "mimetype": "text/x-python",
   "name": "python",
   "nbconvert_exporter": "python",
   "pygments_lexer": "ipython3",
   "version": "3.7.3"
  }
 },
 "nbformat": 4,
 "nbformat_minor": 4
}
